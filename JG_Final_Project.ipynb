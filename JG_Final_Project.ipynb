{
 "cells": [
  {
   "cell_type": "code",
   "execution_count": 1,
   "id": "830c9e00-ffe3-4d99-adfd-c7770f6f7873",
   "metadata": {},
   "outputs": [],
   "source": [
    "import numpy as np\n",
    "import pandas as pd\n",
    "from sklearn.model_selection import train_test_split\n",
    "from sklearn.cluster import KMeans\n",
    "from sklearn.decomposition import TruncatedSVD\n",
    "from sklearn.metrics import root_mean_squared_error as rmse\n",
    "from sklearn.metrics import accuracy_score\n",
    "import matplotlib.pyplot as plt"
   ]
  },
  {
   "cell_type": "markdown",
   "id": "6b1050fe-6fe7-4e63-a867-f6d243277eac",
   "metadata": {},
   "source": [
    "This project looks at batting data at a player level from the 2023 MLB season. RBI's have recently been considerred to an outdated statistic. \n",
    "I want to see if there is any latent features that are indicative a certain ranges of RBI. \n",
    "\n",
    "Dataset was obtained from https://www.kaggle.com/datasets/vivovinco/2023-mlb-player-stats"
   ]
  },
  {
   "cell_type": "code",
   "execution_count": 3,
   "id": "bf04f724-873c-496f-8bf7-8624dcf6ec3f",
   "metadata": {},
   "outputs": [],
   "source": [
    "df_batting = pd.read_excel('C:/Users/Jacob Goes/Documents/ML_Course2_Final/2023_MLB_Player_Batting.xlsx')"
   ]
  },
  {
   "cell_type": "code",
   "execution_count": 4,
   "id": "fe84b1cd-97ac-4ba5-85fe-ad9469c3ad0a",
   "metadata": {},
   "outputs": [
    {
     "name": "stdout",
     "output_type": "stream",
     "text": [
      "      Rk               Name  Age   Tm  Lg   G   PA   AB   R    H  ...    OBP  \\\n",
      "0      1         CJ�Abrams*   22  WSN  NL  89  340  316  47   82  ...  0.306   \n",
      "1      2          Jos�Abreu   36  HOU  AL  95  400  368  33   90  ...  0.293   \n",
      "2      3   Ronald�Acuna�Jr.   25  ATL  NL  97  446  391  86  129  ...  0.408   \n",
      "3      4       Willy�Adames   27  MIL  NL  89  383  336  44   71  ...  0.291   \n",
      "4      5        Riley�Adams   27  WSN  NL  23   87   79   4   22  ...  0.337   \n",
      "..   ...                ...  ...  ...  ..  ..  ...  ...  ..  ...  ...    ...   \n",
      "690  691  Masataka�Yoshida*   29  BOS  AL  86  370  335  52  107  ...  0.381   \n",
      "691  692        Alex�Young*   29  CIN  NL   2    0    0   0    0  ...  0.000   \n",
      "692  693       Jared�Young*   27  CHC  NL  13   39   35   7    6  ...  0.256   \n",
      "693  694        Seby�Zavala   29  CHW  AL  59  156  143  14   23  ...  0.208   \n",
      "694  695        Mike�Zunino   32  CLE  AL  42  140  124  11   22  ...  0.271   \n",
      "\n",
      "       SLG    OPS  OPS+   TB  GDP  HBP  SH  SF  IBB  \n",
      "0    0.434  0.739   105  137    5    8   3   0    0  \n",
      "1    0.353  0.646    79  130   11    3   0   5    1  \n",
      "2    0.578  0.986   160  226    7    4   0   2    2  \n",
      "3    0.411  0.702    90  138    9    3   0   5    0  \n",
      "4    0.506  0.844   133   40    4    1   1   0    0  \n",
      "..     ...    ...   ...  ...  ...  ...  ..  ..  ...  \n",
      "690  0.501  0.883   135  168   11    6   0   1    0  \n",
      "691  0.000  0.000     0    0    0    0   0   0    0  \n",
      "692  0.371  0.628    67   13    1    1   0   0    0  \n",
      "693  0.308  0.515    40   44    3    1   2   2    0  \n",
      "694  0.306  0.578    63   38    3    1   0   0    0  \n",
      "\n",
      "[695 rows x 29 columns]\n",
      "Index(['Rk', 'Name', 'Age', 'Tm', 'Lg', 'G', 'PA', 'AB', 'R', 'H', '2B', '3B',\n",
      "       'HR', 'RBI', 'SB', 'CS', 'BB', 'SO', 'BA', 'OBP', 'SLG', 'OPS', 'OPS+',\n",
      "       'TB', 'GDP', 'HBP', 'SH', 'SF', 'IBB'],\n",
      "      dtype='object')\n"
     ]
    }
   ],
   "source": [
    "print(df_batting)\n",
    "print(df_batting.columns)\n",
    "\n"
   ]
  },
  {
   "cell_type": "code",
   "execution_count": 5,
   "id": "9b5c15f9-8b6c-4520-9d42-eab22e296154",
   "metadata": {},
   "outputs": [
    {
     "name": "stdout",
     "output_type": "stream",
     "text": [
      "      Rk   PA   AB   R    H  2B  3B  HR  RBI  BB  SO     BA    OBP    SLG  \\\n",
      "0      1  340  316  47   82  17   4  10   39  13  72  0.259  0.306  0.434   \n",
      "1      2  400  368  33   90  16   0   8   50  24  92  0.245  0.293  0.353   \n",
      "2      3  446  391  86  129  26   1  23   58  49  53  0.330  0.408  0.578   \n",
      "3      4  383  336  44   71  16   0  17   48  37  98  0.211  0.291  0.411   \n",
      "4      5   87   79   4   22   5   2   3   10   6  26  0.278  0.337  0.506   \n",
      "..   ...  ...  ...  ..  ...  ..  ..  ..  ...  ..  ..    ...    ...    ...   \n",
      "690  691  370  335  52  107  22   3  11   51  28  42  0.319  0.381  0.501   \n",
      "691  692    0    0   0    0   0   0   0    0   0   0  0.000  0.000  0.000   \n",
      "692  693   39   35   7    6   0   2   1    5   3  11  0.171  0.256  0.371   \n",
      "693  694  156  143  14   23   3   0   6   15   8  60  0.161  0.208  0.308   \n",
      "694  695  140  124  11   22   7   0   3   11  15  61  0.177  0.271  0.306   \n",
      "\n",
      "     GDP  HBP  SH  SF  IBB  \n",
      "0      5    8   3   0    0  \n",
      "1     11    3   0   5    1  \n",
      "2      7    4   0   2    2  \n",
      "3      9    3   0   5    0  \n",
      "4      4    1   1   0    0  \n",
      "..   ...  ...  ..  ..  ...  \n",
      "690   11    6   0   1    0  \n",
      "691    0    0   0   0    0  \n",
      "692    1    1   0   0    0  \n",
      "693    3    1   2   2    0  \n",
      "694    3    1   0   0    0  \n",
      "\n",
      "[695 rows x 19 columns]\n"
     ]
    }
   ],
   "source": [
    "df_batting.drop(['Tm','Name','Age','Lg','G','SB','CS','OPS','OPS+','TB'],axis=1,inplace=True)\n",
    "print(df_batting)"
   ]
  },
  {
   "cell_type": "markdown",
   "id": "71b1a2f1-0153-4fcc-82cd-e4bcee93ba16",
   "metadata": {},
   "source": [
    "For relevance in predicting RBI, league is not relevant since the adoption of the DH in both leagues.\n",
    "Games played does not add info outside of at-bats or plate apperances. Stolen bases and caught stealing are not relevant to that player's RBI\n",
    "OPS and OPS+ have representation in OBP and SLG, making them redundant, and TB is accounted for in AB and SLG\n",
    "\n",
    "Additionally, since RBI relies on teammates outside of a HR, team environment may be represented by runs despite little direct correlation with RBI"
   ]
  },
  {
   "cell_type": "code",
   "execution_count": 7,
   "id": "b5338d7f-4ce5-4f52-b101-f99b0af51b2c",
   "metadata": {},
   "outputs": [
    {
     "data": {
      "text/plain": [
       "Text(0.5, 1.0, 'Histogram of Players with RBI totals')"
      ]
     },
     "execution_count": 7,
     "metadata": {},
     "output_type": "execute_result"
    },
    {
     "data": {
      "image/png": "[encoded data removed]",
      "text/plain": [
       "<Figure size 640x480 with 1 Axes>"
      ]
     },
     "metadata": {},
     "output_type": "display_data"
    }
   ],
   "source": [
    "plt.hist(df_batting['RBI'],bins=20)\n",
    "plt.xlabel('RBIs')\n",
    "plt.ylabel('# of Players')\n",
    "plt.title('Histogram of Players with RBI totals')"
   ]
  },
  {
   "cell_type": "markdown",
   "id": "4c7d8320-98df-4808-8be8-1cc17b2b96b7",
   "metadata": {},
   "source": [
    "Observing the Histogram of RBI, a few things are immediately noticable. First, nearly a third of players have 8 or less RBI's.\n",
    "I believe removing them wouldn't affect the results too much since they are likely very low on playing time, which could obscure more relevant\n",
    "features delineating RBI totals for more active players. \n",
    "Based on visual inspection, there are roughly 6-7 peaks in the histogram, which could be a good number of clusters to set for k-means clustering.\n",
    "Removing the low-RBI players opens and reducing the bins to 7\n",
    "\n"
   ]
  },
  {
   "cell_type": "code",
   "execution_count": 9,
   "id": "bfec089a-756d-4dd8-8699-7d0a4b71f55c",
   "metadata": {},
   "outputs": [
    {
     "data": {
      "text/plain": [
       "Text(0.5, 1.0, 'Histogram of Players with RBI totals')"
      ]
     },
     "execution_count": 9,
     "metadata": {},
     "output_type": "execute_result"
    },
    {
     "data": {
      "image/png": "[encoded data removed]",
      "text/plain": [
       "<Figure size 640x480 with 1 Axes>"
      ]
     },
     "metadata": {},
     "output_type": "display_data"
    }
   ],
   "source": [
    "df_batting_gt10_rbi = df_batting[df_batting.RBI >= 10]\n",
    "plt.hist(df_batting_gt10_rbi['RBI'],bins=7)\n",
    "plt.xlabel('RBIs')\n",
    "plt.ylabel('# of Players')\n",
    "plt.title('Histogram of Players with RBI totals')"
   ]
  },
  {
   "cell_type": "markdown",
   "id": "6dee7f02-0dfe-4c63-9f63-9e02702ebc10",
   "metadata": {},
   "source": [
    "This histogram looks like it is more managable for this dataset, and I belive I will compare 5-8 clusters to determine what is the best"
   ]
  },
  {
   "cell_type": "markdown",
   "id": "26921486-27d4-4b01-b2f0-9d0c2a5cc87b",
   "metadata": {},
   "source": [
    "Here is where the dimensionality reduction comes into play, and I will explain what features I can see.\n",
    "Opportunity (RBI opportunities), which I think encompases PA, AB, and potentially R.\n",
    "Execution, which encompases H, 2B, 3B, HR, BA, SLG, and to a lesser extent BB, HBP, and OBP.\n",
    "Failures, which encompases SO, GDP, and to a lesser extent SF.\n",
    "Avoidance, which encompases IBB and to a lesser extent BB, HBP, and OBP.\n",
    "Extra Base Hits, which includes 2B, 3B, and HR.\n",
    "I think I will reduce dimensionality to 5 to account for these groups"
   ]
  },
  {
   "cell_type": "markdown",
   "id": "a5623246-d1b0-4d85-92f6-72cec2bfc4ea",
   "metadata": {},
   "source": [
    "Here we will build the model and train on the dataset"
   ]
  },
  {
   "cell_type": "code",
   "execution_count": 13,
   "id": "dd0f56b6-35c3-4dc8-a6ef-3a5842b97209",
   "metadata": {},
   "outputs": [
    {
     "name": "stdout",
     "output_type": "stream",
     "text": [
      "[39 50 58 48 10 14 16 66 63 18 41 55 13 38 16 20 34 76 62 47 21 19 31 19\n",
      " 46 29 17 26 19 47 41 23 29 17 18 22 67 53 19 26 23 36 59 63 26 28 23 47\n",
      " 21 40 21 15 22 16 29 47 28 18 21 29 27 52 35 58 23 22 20 15 42 21 13 51\n",
      " 37 40 44 13 43 26 35 31 38 23 23 11 49 10 53 16 32 10 73 16 46 14 23 45\n",
      " 17 15 34 24 45 26 37 34 25 29 21 16 12 31 22 21 20 14 31 21 19 58 38 47\n",
      " 45 70 33 10 31 80 41 28 24 17 37 50 33 12 14 62 29 22 23 32 35 62 56 18\n",
      " 23 10 22 42 26 28 10 32 38 14 67 41 31 55 25 25 20 24 54 14 18 51 12 21\n",
      " 41 14 41 25 20 40 16 30 58 45 19 36 22 34 24 31 24 17 32 33 31 17 28 15\n",
      " 61 22 12 32 51 52 57 17 13 17 26 18 26 10 10 10 36 55 28 73 27 31 27 10\n",
      " 13 35 28 11 11 11 23 35 46 30 19 33 50 42 11 23 26 13 13 34 13 43 28 41\n",
      " 28 17 11 47 59 57 11 12 76 27 27 46 38 28 31 13 18 76 17 80 42 43 13 59\n",
      " 26 34 33 37 36 17 40 15 27 35 18 16 15 31 34 38 39 37 55 39 25 11 22 42\n",
      " 27 45 61 22 39 57 51 28 26 11 44 40 44 35 37 42 35 24 23 35 46 54 22 60\n",
      " 58 19 60 34 26 20 41 14 25 30 52 22 54 20 60 41 10 33 54 37 36 17 58 51\n",
      " 33 37 13 10 50 30 43 31 29 36 23 17 53 14 52 41 46 11 15 15 44 68 19 64\n",
      " 34 33 24 11 13 32 32 54 19 39 26 12 28 34 10 21 28 63 28 12 27 40 15 11\n",
      " 33 23 35 51 23 16 30 54 51 15 11]\n",
      "[10. 20. 30. 40. 50. 60. 70. 80.]\n"
     ]
    }
   ],
   "source": [
    "#Assignment of players to clusters based on RBI Total\n",
    "RBIs = df_batting_gt10_rbi['RBI']\n",
    "RBIs = np.array(RBIs)\n",
    "print(RBIs)\n",
    "\n",
    "hist, bin_edges_7_clust = np.histogram(RBIs, bins=7)\n",
    "\n",
    "\n",
    "\n",
    "print(bin_edges_7_clust)\n",
    "\n",
    "\n",
    "\n",
    "clust_7_group = np.zeros(len(RBIs))\n",
    "\n",
    "\n",
    "\n",
    "for i in range(len(RBIs)):\n",
    "    if RBIs[i] <= bin_edges_7_clust[1]:\n",
    "        clust_7_group[i] = 0\n",
    "    elif RBIs[i] <= bin_edges_7_clust[2]:\n",
    "        clust_7_group[i] = 1\n",
    "    elif RBIs[i] <= bin_edges_7_clust[3]:\n",
    "        clust_7_group[i] = 2\n",
    "    elif RBIs[i] <= bin_edges_7_clust[4]:\n",
    "        clust_7_group[i] = 3\n",
    "    elif RBIs[i] <= bin_edges_7_clust[5]:\n",
    "        clust_7_group[i] = 4\n",
    "    elif RBIs[i] <= bin_edges_7_clust[6]:\n",
    "        clust_7_group[i] = 5\n",
    "    else:\n",
    "        clust_7_group[i] = 6\n"
   ]
  },
  {
   "cell_type": "code",
   "execution_count": 14,
   "id": "af46e282-9880-4579-a8fe-dc7f2dd8e5e3",
   "metadata": {},
   "outputs": [
    {
     "name": "stdout",
     "output_type": "stream",
     "text": [
      "      Rk   PA   AB   R    H  2B  3B  HR  BB  SO     BA    OBP    SLG  GDP  \\\n",
      "0      1  340  316  47   82  17   4  10  13  72  0.259  0.306  0.434    5   \n",
      "1      2  400  368  33   90  16   0   8  24  92  0.245  0.293  0.353   11   \n",
      "2      3  446  391  86  129  26   1  23  49  53  0.330  0.408  0.578    7   \n",
      "3      4  383  336  44   71  16   0  17  37  98  0.211  0.291  0.411    9   \n",
      "4      5   87   79   4   22   5   2   3   6  26  0.278  0.337  0.506    4   \n",
      "..   ...  ...  ...  ..  ...  ..  ..  ..  ..  ..    ...    ...    ...  ...   \n",
      "687  688  268  239  41   55  14   1  11  27  69  0.230  0.311  0.435    2   \n",
      "688  689  410  360  71  103  23   2  14  47  87  0.286  0.373  0.478    8   \n",
      "690  691  370  335  52  107  22   3  11  28  42  0.319  0.381  0.501   11   \n",
      "693  694  156  143  14   23   3   0   6   8  60  0.161  0.208  0.308    3   \n",
      "694  695  140  124  11   22   7   0   3  15  61  0.177  0.271  0.306    3   \n",
      "\n",
      "     HBP  SH  SF  IBB  \n",
      "0      8   3   0    0  \n",
      "1      3   0   5    1  \n",
      "2      4   0   2    2  \n",
      "3      3   0   5    0  \n",
      "4      1   1   0    0  \n",
      "..   ...  ..  ..  ...  \n",
      "687    1   1   0    2  \n",
      "688    3   0   0    3  \n",
      "690    6   0   1    0  \n",
      "693    1   2   2    0  \n",
      "694    1   0   0    0  \n",
      "\n",
      "[395 rows x 18 columns]\n"
     ]
    }
   ],
   "source": [
    "#Setup\n",
    "features = df_batting_gt10_rbi.drop(['RBI'],axis=1)\n",
    "print(features)\n",
    "\n",
    "x_train_7clust, x_test_7clust, y_train_7clust, y_test_7clust = train_test_split(features,clust_7_group,test_size=0.2, random_state=27)\n"
   ]
  },
  {
   "cell_type": "code",
   "execution_count": 15,
   "id": "b3e86423-307f-494d-8019-11f5ea36a892",
   "metadata": {},
   "outputs": [],
   "source": [
    "#SVD Decomposition\n",
    "def SVD_Decomp(n_comp, x_train):\n",
    "    tsvd = TruncatedSVD(n_components=n_comp).fit(x_train)\n",
    "    return(tsvd)\n",
    "\n",
    "def K_Means(tsvd, x_train, x_test, n_clust):    \n",
    "    Y_Train = tsvd.transform(x_train)\n",
    "    Y_Test = tsvd.transform(x_test)\n",
    "    U_Train = Y_Train / tsvd.singular_values_\n",
    "    U_Test = Y_Test / tsvd.singular_values_\n",
    "\n",
    "    Vt = tsvd.components_\n",
    "    S = tsvd.singular_values_\n",
    "    model_kmeans = KMeans(n_clusters=n_clust).fit(U_Train)\n",
    "    test_pred = model_kmeans.predict(U_Test)\n",
    "    return model_kmeans, test_pred"
   ]
  },
  {
   "cell_type": "code",
   "execution_count": 16,
   "id": "fb1936de-079c-407c-82e6-15dc8deb637d",
   "metadata": {},
   "outputs": [],
   "source": [
    "#Truncated SVD Generation\n",
    "tsvd_5comp_7clust = SVD_Decomp(5, x_train_7clust)"
   ]
  },
  {
   "cell_type": "code",
   "execution_count": 17,
   "id": "42309e43-3835-466a-99c9-5a4e1053cd56",
   "metadata": {},
   "outputs": [
    {
     "name": "stderr",
     "output_type": "stream",
     "text": [
      "D:\\anaconda3\\Lib\\site-packages\\sklearn\\cluster\\_kmeans.py:1446: UserWarning: KMeans is known to have a memory leak on Windows with MKL, when there are less chunks than available threads. You can avoid it by setting the environment variable OMP_NUM_THREADS=2.\n",
      "  warnings.warn(\n"
     ]
    }
   ],
   "source": [
    "\n",
    "model_kmeans_5comp_7clust, test_pred_5comp_7clust = K_Means(tsvd_5comp_7clust, x_train_7clust, x_test_7clust, n_clust=7)"
   ]
  },
  {
   "cell_type": "code",
   "execution_count": 18,
   "id": "2ae180db-62eb-47e8-8dd2-525281c26058",
   "metadata": {},
   "outputs": [],
   "source": [
    "#Get optimal label_order\n",
    "import itertools\n",
    "\n",
    "def label_permute_compare(ytdf,yp,n):\n",
    "    \"\"\"\n",
    "    ytdf: labels dataframe object\n",
    "    yp: clustering label prediction output\n",
    "    Returns permuted label order and accuracy. \n",
    "    Example output: (3, 4, 1, 2, 0), 0.74 \n",
    "    \"\"\"\n",
    "# your code here\n",
    "    iterations = itertools.permutations(range(n))\n",
    "    label_order_optimum = range(n)\n",
    "    optimal_order_accuracy = 0\n",
    "    #label_column = set(ytdf)\n",
    "    label_perm = []\n",
    "    alphabet = ['A','B','C','D','E','F','G','H']\n",
    "    #print(ytdf.shape)\n",
    "    #print(ytdf)\n",
    "    labels = np.unique(ytdf)\n",
    "    #print(labels)\n",
    "    for i in list(iterations):\n",
    "        accuracy = 0\n",
    "        cor_label = 0\n",
    "        for l in range(n):\n",
    "            label_perm.append(alphabet[l])\n",
    "        #label_perm = ['A','B','C','D','E']\n",
    "        for k in range(5):\n",
    "            label_perm[k] = labels[i[k]]\n",
    "        for j in range(len(ytdf)):\n",
    "            #print(labels[i[j]])\n",
    "            #print(yp[j])\n",
    "            #print(ytdf[j])\n",
    "            #print('j = ' + str(j))\n",
    "            if ytdf[j] == label_perm[yp[j]]:\n",
    "                cor_label += 1\n",
    "        accuracy = cor_label/len(ytdf)\n",
    "        if accuracy > optimal_order_accuracy:\n",
    "            label_order_optimum = i\n",
    "            optimal_order_accuracy = accuracy\n",
    "        #print(accuracy)\n",
    "    return label_order_optimum, optimal_order_accuracy"
   ]
  },
  {
   "cell_type": "code",
   "execution_count": 19,
   "id": "f2433a69-0946-456d-af0b-4d0c8dc24bf4",
   "metadata": {},
   "outputs": [
    {
     "name": "stdout",
     "output_type": "stream",
     "text": [
      "Optimal Category Order _5comp_7clust= (1, 3, 2, 0, 4, 5, 6)\n",
      "Optimal Order Training Accuracy = 0.29430379746835444\n"
     ]
    }
   ],
   "source": [
    "Category_Order_Optimum_5comp_7clust, Optimal_Order_Train_Accuracy_5comp_7clust = label_permute_compare(y_train_7clust,model_kmeans_5comp_7clust.labels_,n=7)\n",
    "print('Optimal Category Order _5comp_7clust= ' + str(Category_Order_Optimum_5comp_7clust))\n",
    "print('Optimal Order Training Accuracy = ' + str(Optimal_Order_Train_Accuracy_5comp_7clust))\n"
   ]
  },
  {
   "cell_type": "code",
   "execution_count": 27,
   "id": "11120530-33d5-4f31-b605-57a295da8e21",
   "metadata": {},
   "outputs": [
    {
     "name": "stdout",
     "output_type": "stream",
     "text": [
      "Test_accuracy = 0.27848101265822783\n",
      "Test_rmse = 2.493028253634066\n"
     ]
    }
   ],
   "source": [
    "test_pred_5comp_7clust_transformed = []\n",
    "for i in range(len(test_pred_5comp_7clust)):\n",
    "    test_pred_5comp_7clust_transformed.append(Category_Order_Optimum_5comp_7clust[test_pred_5comp_7clust[i]])\n",
    "\n",
    "Test_acc = accuracy_score(y_test_7clust,test_pred_5comp_7clust_transformed)\n",
    "Test_rmse = rmse(y_test_7clust, test_pred_5comp_7clust_transformed)\n",
    "print('Test_accuracy = ' + str(Test_acc))\n",
    "print('Test_rmse = ' + str(Test_rmse))"
   ]
  },
  {
   "cell_type": "markdown",
   "id": "2b9442dc-2d54-4132-9df9-63077c76d2be",
   "metadata": {},
   "source": [
    "Results & Discussion:\n",
    "\n",
    "I ran into a lot of issues with trying to run several different combinations of n_components and n_clusters, so I had to only implement one combination. The accuracy and rmse were rather poor, with more than double the accuracy of random chance but well below accuracy acceptable for a functional model. If my hardware would cooperate I would've liked to have tried several different combinations. Ultimatly I chose to pursue classifying a statistic that has largely been ignored by other statisticians and tried to discover latent features that could better predict RBIs. However, I would not conclude that unsupervized machine learning models are unable to assist in predicting RBI until I performed a more thorough experiment and found that the only training accuracies I would consider high are a result of overfitting, with the test score being significantly smaller."
   ]
  },
  {
   "cell_type": "code",
   "execution_count": null,
   "id": "2412c47a-8042-4562-b23b-a5442e9701c1",
   "metadata": {},
   "outputs": [],
   "source": []
  }
 ],
 "metadata": {
  "kernelspec": {
   "display_name": "Python 3 (ipykernel)",
   "language": "python",
   "name": "python3"
  },
  "language_info": {
   "codemirror_mode": {
    "name": "ipython",
    "version": 3
   },
   "file_extension": ".py",
   "mimetype": "text/x-python",
   "name": "python",
   "nbconvert_exporter": "python",
   "pygments_lexer": "ipython3",
   "version": "3.12.4"
  }
 },
 "nbformat": 4,
 "nbformat_minor": 5
}
